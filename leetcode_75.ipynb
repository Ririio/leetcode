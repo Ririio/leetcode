{
 "cells": [
  {
   "cell_type": "markdown",
   "metadata": {},
   "source": [
    "# Summary\n",
    "- 75 Essential & Trending Problems\n",
    "- Must-do problem list for interview prep\n",
    "- Best for 1~3 month of prep time"
   ]
  },
  {
   "cell_type": "markdown",
   "metadata": {},
   "source": [
    "## 1768. Leetcode - Merge Strings Alternately\n",
    "\n",
    "- You are given *two strings* `word1` and `word2`\n",
    "- Merge the string by adding the *letters* for each *word* in an *alternating order*, starting with `word1`\n",
    "- *If* a string is longer than the other, *append* the additional letters onto the end of the merge string\n",
    "- *Return* merged string\n",
    "\n",
    "### How to Solve\n",
    "1. Create an **empty list** (this is where we'll be storing the letters)\n",
    "2. Start a **for-loop** that will iterate until the **length** of the longest word\n",
    "3. We will then *append* the current letter starting from `word1` **If** the current iteration is less than the length of either word\n",
    "4. We will then join the `merge` list with an empty string, as the **return value**"
   ]
  },
  {
   "cell_type": "code",
   "execution_count": null,
   "metadata": {},
   "outputs": [],
   "source": [
    "class Solution:\n",
    "    def mergeAlternately(self, word1: str, word2: str) -> str:\n",
    "        merge = []\n",
    "        len1 = len(word1)\n",
    "        len2 = len(word2)\n",
    "\n",
    "        for i in range(max(len1, len2)):\n",
    "            if i < len1:\n",
    "                merge.append(word1[i])\n",
    "            if i < len2:\n",
    "                merge.append(word2[i])\n",
    "        return ''.join(merge)"
   ]
  },
  {
   "cell_type": "markdown",
   "metadata": {},
   "source": [
    "## 1071. Leetcode - Greatest Common Divisor of Strings\n",
    "\n",
    "For two strings `s` and `t`, we say \"`t` divides `s`\" if and only if `s = t + t + t + ... + t + t` (i.e., `t` is concatenated with itself one or more times).\n",
    "\n",
    "Given two strings `str1` and `str2`, return _the largest string_ `x` _such that_ `x` _divides both_ `str1` _and_ `str2`.\n",
    "### How to Solve\n",
    "- Keep in mind that **both** strings **must** have the same pattern to be (valid)\n",
    "\t- `ABAB != ABABC` The `C` breaks the pattern, thus making this invalid\n",
    "- `str1 + str2 == str2 + str1` If both string are a valid pattern\n",
    "- The `gcd` function takes the `length` of each `str` to do a modulus operator `%`\n",
    "\t- The reason is because, if both follows the *same pattern*, then it means that `str1` should be divisible by `str2` or by *itself*\n",
    "\t- Thus, to find the *pattern*, you have to continuously do a `modulos` operator *between* the `larger` and `smaller` length, until the `smaller` length is `0` "
   ]
  },
  {
   "cell_type": "code",
   "execution_count": null,
   "metadata": {},
   "outputs": [],
   "source": [
    "class Solution:\n",
    "    def gcd(self, a: int, b: int) -> int:\n",
    "        '''Calculate the greatest common divisor of a and b'''\n",
    "        while b:\n",
    "            # get the remainder of a/b, this makes b the larger of the two\n",
    "            # thus we make a = b and b = a % b\n",
    "            a, b = b, a % b\n",
    "        return a\n",
    "\n",
    "    def gcdOfStrings(self, str1: str, str2: str) -> str:\n",
    "        '''Find the greatest common divisor of two strings'''\n",
    "        # str1 + str2 should be equal to str2 + str1\n",
    "        if str1 + str2 != str2 + str1:\n",
    "            return ''\n",
    "        \n",
    "        # get the gcd of the lengths of the two strings\n",
    "        gcd_length = self.gcd(len(str1), len(str2))\n",
    "        return str1[:gcd_length]"
   ]
  },
  {
   "cell_type": "markdown",
   "metadata": {},
   "source": [
    "## 1431. Leetcode - Kids With the Greatest Number of Candies\n",
    "\n",
    "There are `n` kids with candies. You are given an integer array `candies`, where each `candies[i]` represents the number of candies the `ith` kid has, and an integer `extraCandies`, denoting the number of extra candies that you have.\n",
    "\n",
    "Return _a boolean array_ `result` _of length_ `n`_, where_ `result[i]` _is_ `true` _if, after giving the_ `ith` _kid all the_ `extraCandies`_, they will have the **greatest** number of candies among all the kids__, or_ `false` _otherwise_.\n",
    "\n",
    "Note that **multiple** kids can have the **greatest** number of candies.\n",
    "\n",
    "### How to Solve\n",
    "1. Find the candy with the **maximum** value\n",
    "2. Iterate through the `candies` array\n",
    "3. Append the result of `(candy + extraCandies) >= max_candy`\n",
    "\t- It will return `true` if the `candy + extraCandies` is greater than `max_candy`"
   ]
  },
  {
   "cell_type": "code",
   "execution_count": 2,
   "metadata": {},
   "outputs": [
    {
     "name": "stdout",
     "output_type": "stream",
     "text": [
      "[True, True, True, False, True]\n"
     ]
    }
   ],
   "source": [
    "from typing import List\n",
    "\n",
    "class Solution:\n",
    "    def kidsWithCandies(self, candies: List[int], extraCandies: int) -> List[bool]:\n",
    "      max_candy = max(candies)\n",
    "      results = []\n",
    "      for candy in candies:\n",
    "        results.append((candy + extraCandies) >= max_candy)\n",
    "      \n",
    "      return results\n",
    "\n",
    "if __name__ == '__main__':\n",
    "  solution = Solution()\n",
    "  print(solution.kidsWithCandies([2,3,5,1,3], 3))"
   ]
  },
  {
   "cell_type": "markdown",
   "metadata": {},
   "source": [
    "## 605. Can Place Flowers\n",
    "\n",
    "You have a long flowerbed in which some of the plots are planted, and some are not. However, flowers cannot be planted in **adjacent** plots.\n",
    "\n",
    "Given an integer array `flowerbed` containing `0`'s and `1`'s, where `0` means empty and `1` means not empty, and an integer `n`, return `true` _if_ `n` _new flowers can be planted in the_ `flowerbed` _without violating the no-adjacent-flowers rule and_ `false` _otherwise_."
   ]
  },
  {
   "cell_type": "code",
   "execution_count": 3,
   "metadata": {},
   "outputs": [
    {
     "name": "stdout",
     "output_type": "stream",
     "text": [
      "False\n"
     ]
    }
   ],
   "source": [
    "from typing import List\n",
    "\n",
    "class Solution:\n",
    "\tdef canPlaceFlowers(self, flowerbed: List[int], n: int) -> bool:\n",
    "\t\tcount = 0\n",
    "\t\t# Iterate through the flowerbed\n",
    "\t\tfor i in range(len(flowerbed)):\n",
    "\t\t\t# Only check if the current iteration is 0\n",
    "\t\t\tif flowerbed[i] == 0:\n",
    "\t\t\t\t# Ensure that there is no out of bounce for each placement\n",
    "\t\t\t\tleft_placement = (i == 0) or (flowerbed[i - 1] == 0)\n",
    "\t\t\t\tright_placement = ((len(flowerbed) - 1) == i) or (flowerbed[i + 1] == 0)\n",
    "\n",
    "\t\t\t\tif left_placement and right_placement:\n",
    "\t\t\t\t\tflowerbed[i] = 1\n",
    "\t\t\t\t\tcount += 1\n",
    "\t\treturn count >= n\n",
    "\n",
    "if __name__ == '__main__':\n",
    "\tsolution = Solution()\n",
    "\tprint(solution.canPlaceFlowers([1,0,0,0,0,1], 2))"
   ]
  },
  {
   "cell_type": "markdown",
   "metadata": {},
   "source": [
    "## 345. Reverse Vowels of a String\n",
    "\n",
    "Given a string `s`, reverse only all the vowels in the string and return it.\n",
    "\n",
    "The vowels are `'a'`, `'e'`, `'i'`, `'o'`, and `'u'`, and they can appear in both lower and upper cases, more than once."
   ]
  },
  {
   "cell_type": "code",
   "execution_count": null,
   "metadata": {},
   "outputs": [],
   "source": [
    "class Solution:\n",
    "  def reverseVowels(self, s: str) -> str:\n",
    "    vowels = ['a', 'e', 'i', 'o', 'u']\n",
    "    a_vowels = []\n",
    "    for char in s:\n",
    "      if char.lower() in vowels:\n",
    "        a_vowels.append(char)\n",
    "        \n",
    "    a_vowels.reverse()\n",
    "    count = 0\n",
    "    return_val = ''\n",
    "    for i, char in enumerate(s):\n",
    "      if char.lower() in vowels:\n",
    "        return_val += a_vowels[count]\n",
    "        count += 1\n",
    "      else:\n",
    "        return_val += char\n",
    "\n",
    "    return return_val"
   ]
  },
  {
   "cell_type": "markdown",
   "metadata": {},
   "source": [
    "## 151. Reverse Words in a String\n",
    "Given an input string `s`, reverse the order of the **words**.\n",
    "\n",
    "A **word** is defined as a sequence of non-space characters. The **words** in `s` will be separated by at least one space.\n",
    "\n",
    "Return _a string of the words in reverse order concatenated by a single space._\n",
    "\n",
    "**Note** that `s` may contain leading or trailing spaces or multiple spaces between two words. The returned string should only have a single space separating the words. Do not include any extra spaces."
   ]
  },
  {
   "cell_type": "code",
   "execution_count": null,
   "metadata": {},
   "outputs": [],
   "source": [
    "class Solution:\n",
    "  def reverseWords(self, s: str) -> str:\n",
    "    words = s.split()\n",
    "    words.reverse()\n",
    "    return_value = ''\n",
    "    for i, word in enumerate(words):\n",
    "      if i != len(words) - 1:\n",
    "        return_value += f\"{word} \"\n",
    "        continue\n",
    "      return_value += word\n",
    "\n",
    "    return return_value"
   ]
  },
  {
   "cell_type": "markdown",
   "metadata": {},
   "source": [
    "## 238. Product of Array Except Self\n",
    "\n",
    "Given an integer array `nums`, return an array answer such that `answer[i]` is equal to the product of all the elements of `nums` except `nums[i]`.\n",
    "\n",
    "The product of any prefix or suffix of `nums` is guaranteed to fit in a 32-bit integer.\n",
    "\n",
    "You must write an algorithm that runs in **O(n)** time and without using the division operation."
   ]
  },
  {
   "cell_type": "code",
   "execution_count": null,
   "metadata": {},
   "outputs": [],
   "source": [
    "from typing import List\n",
    "import math\n",
    "\n",
    "class Solution:\n",
    "  def productExceptSelf(self, nums: List[int]) -> List[int]:\n",
    "    n = len(nums)\n",
    "    result = [1] * n\n",
    "\n",
    "    # Compute prefix products\n",
    "    prefix = 1\n",
    "    for i in range(n):\n",
    "        result[i] = prefix\n",
    "        prefix *= nums[i]\n",
    "\n",
    "    return result\n",
    "\n",
    "if __name__ == '__main__':\n",
    "  solution = Solution()\n",
    "  print(solution.productExceptSelf([1,2,3,4]))\n",
    "  # print(solution.productExceptSelf([-1,1,0,-3,3]))\n",
    "  # print(solution.productExceptSelf([0,0]))\n"
   ]
  },
  {
   "cell_type": "markdown",
   "metadata": {},
   "source": [
    "# 283. Move Zeroes\n",
    "\n",
    "Given an integer array `nums`, move all `0`'s to the end of it while maintaining the relative order of the non-zero elements.\n",
    "\n",
    "Note that you must do this in-place without making a copy of the array."
   ]
  },
  {
   "cell_type": "code",
   "execution_count": 10,
   "metadata": {},
   "outputs": [
    {
     "name": "stdout",
     "output_type": "stream",
     "text": [
      "[1, 3, 12, 0, 0]\n"
     ]
    }
   ],
   "source": [
    "from typing import List\n",
    "\n",
    "class Solution:\n",
    "    def moveZeroes(self, nums: List[int]) -> None:\n",
    "        for num in nums:\n",
    "          if num == 0:\n",
    "            nums.append(num)\n",
    "            nums.remove(num) \n",
    "        print(nums)\n",
    "        \n",
    "if __name__ == '__main__':\n",
    "  sol = Solution()\n",
    "  sol.moveZeroes([0,1,0,3,12])"
   ]
  }
 ],
 "metadata": {
  "kernelspec": {
   "display_name": "base",
   "language": "python",
   "name": "python3"
  },
  "language_info": {
   "codemirror_mode": {
    "name": "ipython",
    "version": 3
   },
   "file_extension": ".py",
   "mimetype": "text/x-python",
   "name": "python",
   "nbconvert_exporter": "python",
   "pygments_lexer": "ipython3",
   "version": "3.12.7"
  }
 },
 "nbformat": 4,
 "nbformat_minor": 2
}
